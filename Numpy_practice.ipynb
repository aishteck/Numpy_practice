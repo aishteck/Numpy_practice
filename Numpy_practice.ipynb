{
 "cells": [
  {
   "cell_type": "markdown",
   "id": "3d9598a6-19a0-4469-a607-53d759765486",
   "metadata": {},
   "source": [
    "# Numpy\n",
    "The NumPy library is the core library for scientific computing in Python. It provides a high-performance multidimensional array\n",
    "object, and tools for working with these arrays."
   ]
  },
  {
   "cell_type": "code",
   "execution_count": null,
   "id": "ea043d1a-0a04-4924-a67e-9f3688ac92ce",
   "metadata": {},
   "outputs": [],
   "source": [
    "pip install numpy"
   ]
  },
  {
   "cell_type": "code",
   "execution_count": null,
   "id": "2edbd429-5764-4df3-899a-19b28bf52cb1",
   "metadata": {},
   "outputs": [],
   "source": [
    "import numpy as np"
   ]
  },
  {
   "cell_type": "markdown",
   "id": "e07d7c13-1d21-4809-978b-a425604db56f",
   "metadata": {},
   "source": [
    "## Creatig Array"
   ]
  },
  {
   "cell_type": "code",
   "execution_count": null,
   "id": "87c88967-0fc4-462f-b9d3-a2e653966093",
   "metadata": {},
   "outputs": [],
   "source": [
    "a = np.array([1,2,3])\n",
    "print(a)"
   ]
  },
  {
   "cell_type": "code",
   "execution_count": null,
   "id": "fda9eac9-41ee-4dc7-9d58-a6ead92eab3a",
   "metadata": {},
   "outputs": [],
   "source": [
    "b = np.array([(1,2,3), (4,5,6), (7,8,9)])\n",
    "print(b)\n"
   ]
  },
  {
   "cell_type": "code",
   "execution_count": null,
   "id": "b490be2e-9aa3-43a1-a07c-8815533cb7fa",
   "metadata": {},
   "outputs": [],
   "source": [
    "c = np.array([(1,2,3), (4,5,6), (7,8,9)], dtype = float)\n",
    "print(b)"
   ]
  },
  {
   "cell_type": "markdown",
   "id": "15abe5fb-39ff-4de5-951f-4c278c90f47c",
   "metadata": {},
   "source": [
    "## Initial place holder"
   ]
  },
  {
   "cell_type": "markdown",
   "id": "8839e7fa-22e6-4354-b7c8-fb4e988c3f77",
   "metadata": {},
   "source": [
    "**creating an array is zeror**"
   ]
  },
  {
   "cell_type": "code",
   "execution_count": null,
   "id": "17afe29f-9037-4227-88e5-97438b3aa0e8",
   "metadata": {},
   "outputs": [],
   "source": [
    "ab = np.zeros((2,3))   \n",
    "print(ab)\n"
   ]
  },
  {
   "cell_type": "markdown",
   "id": "10b0c103-7fd3-430a-a72a-698ddf6bca1f",
   "metadata": {},
   "source": [
    "**creating an array is one**"
   ]
  },
  {
   "cell_type": "code",
   "execution_count": null,
   "id": "7204fc28-061c-4a81-9705-8ded67dfcb85",
   "metadata": {},
   "outputs": [],
   "source": [
    "bb = np.ones((2,5), dtype = str)\n",
    "print(bb)"
   ]
  },
  {
   "cell_type": "markdown",
   "id": "c69ea425-8725-4029-9ce6-28a01adcdd63",
   "metadata": {},
   "source": [
    "**creating an array arrange**"
   ]
  },
  {
   "cell_type": "code",
   "execution_count": null,
   "id": "587fc71e-b7a8-4fb6-8230-322e96994338",
   "metadata": {},
   "outputs": [],
   "source": [
    "ag = np.arange(10,35,8) # 10 is the first value and 35 last value arrange b/t 8 distance\n",
    "print(ag)"
   ]
  },
  {
   "cell_type": "code",
   "execution_count": null,
   "id": "c6fe2496-6d67-4100-ba7b-11339845832b",
   "metadata": {},
   "outputs": [],
   "source": [
    "d = np.arange(10,25,5)   # Create an array of evenly spaced values (step value) \n",
    "print(d)"
   ]
  },
  {
   "cell_type": "markdown",
   "id": "936c2b19-9684-49c9-b636-4acce0d08b1d",
   "metadata": {},
   "source": [
    " **Create an array of evenly spaced values (number of samples)**"
   ]
  },
  {
   "cell_type": "code",
   "execution_count": null,
   "id": "c90b2690-22e4-43ec-b30e-56198f7a3cd8",
   "metadata": {},
   "outputs": [],
   "source": [
    "sv = np.linspace(0,2,9)\n",
    "print(sv)"
   ]
  },
  {
   "cell_type": "markdown",
   "id": "50e756c2-793f-4c7a-a5ae-ec9390ac2391",
   "metadata": {},
   "source": [
    "**creating constant array**"
   ]
  },
  {
   "cell_type": "code",
   "execution_count": null,
   "id": "7361fdb8-40be-487d-8e52-5efddcf8db62",
   "metadata": {},
   "outputs": [],
   "source": [
    "c_array = np.full((2,3),7)\n",
    "print(c_array)"
   ]
  },
  {
   "cell_type": "markdown",
   "id": "24018333-db5c-47a7-aa1e-ae8d5b943199",
   "metadata": {},
   "source": [
    "**Create a 2X2 identity matrix**"
   ]
  },
  {
   "cell_type": "code",
   "execution_count": null,
   "id": "bf5dce11-49b3-465b-8cfa-c6c407e0e53a",
   "metadata": {},
   "outputs": [],
   "source": [
    "f = np.eye(2)\n",
    "print(f)"
   ]
  },
  {
   "cell_type": "code",
   "execution_count": null,
   "id": "ed370697-1213-4af2-bfd0-9ff51182c591",
   "metadata": {},
   "outputs": [],
   "source": [
    "f_9 = np.eye(9)\n",
    "print(f_9)"
   ]
  },
  {
   "cell_type": "markdown",
   "id": "bb271917-7bf7-45fd-a6ec-c46e5d404e14",
   "metadata": {},
   "source": [
    "**Create an array with random values**"
   ]
  },
  {
   "cell_type": "code",
   "execution_count": 68,
   "id": "35678980-492a-424c-9495-5d93d097ebcf",
   "metadata": {},
   "outputs": [
    {
     "name": "stdout",
     "output_type": "stream",
     "text": [
      "[[0.20514698 0.79523755 0.65146241 0.93294646 0.85073539 0.70566277]\n",
      " [0.36433821 0.15677567 0.67017543 0.56515419 0.1102559  0.46630492]\n",
      " [0.133555   0.25142005 0.42171043 0.77155622 0.23792664 0.37561736]\n",
      " [0.55324692 0.63566668 0.88220656 0.39347387 0.26158539 0.06170241]]\n"
     ]
    }
   ],
   "source": [
    "r = np.random.random((4,6))\n",
    "print(r)"
   ]
  },
  {
   "cell_type": "markdown",
   "id": "fd8c2974-1cd5-486a-ae79-6b1983df2723",
   "metadata": {},
   "source": [
    "**Create an empty array**"
   ]
  },
  {
   "cell_type": "code",
   "execution_count": 75,
   "id": "0fbd2fde-498d-4a13-a1d0-253fdf6b2c37",
   "metadata": {},
   "outputs": [
    {
     "name": "stdout",
     "output_type": "stream",
     "text": [
      "[[4.67296746e-307 1.69121096e-306 6.23054293e-307 8.45593934e-307\n",
      "  7.56593017e-307 1.33511018e-306]\n",
      " [1.33511969e-306 1.16819094e-307 8.01097889e-307 1.78020169e-306\n",
      "  7.56601165e-307 1.02359984e-306]\n",
      " [1.33510679e-306 2.22522597e-306 1.11260144e-306 6.89812281e-307\n",
      "  2.22522596e-306 6.89805151e-307]]\n"
     ]
    }
   ],
   "source": [
    "em = np.empty((3,6))\n",
    "print(em)"
   ]
  },
  {
   "cell_type": "markdown",
   "id": "5eae9a19-b751-4495-9e7b-957621d16d34",
   "metadata": {},
   "source": [
    "## Data Types"
   ]
  },
  {
   "cell_type": "code",
   "execution_count": null,
   "id": "3648337b-1bd1-463a-9329-65b63e061b20",
   "metadata": {},
   "outputs": [],
   "source": []
  }
 ],
 "metadata": {
  "kernelspec": {
   "display_name": "Python 3 (ipykernel)",
   "language": "python",
   "name": "python3"
  },
  "language_info": {
   "codemirror_mode": {
    "name": "ipython",
    "version": 3
   },
   "file_extension": ".py",
   "mimetype": "text/x-python",
   "name": "python",
   "nbconvert_exporter": "python",
   "pygments_lexer": "ipython3",
   "version": "3.11.7"
  }
 },
 "nbformat": 4,
 "nbformat_minor": 5
}
